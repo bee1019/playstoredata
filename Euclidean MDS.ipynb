{
 "cells": [
  {
   "cell_type": "code",
   "execution_count": 96,
   "metadata": {},
   "outputs": [],
   "source": [
    "from matplotlib import pyplot as plt\n",
    "from sklearn import manifold\n",
    "import numpy as np"
   ]
  },
  {
   "cell_type": "code",
   "execution_count": 97,
   "metadata": {},
   "outputs": [],
   "source": [
    "D = [[0.00, 4041520.789, 660.5090804, 92084088.83, 23.31458771],\n",
    "    [4041520.789, 0.00, 4041211.607, 88955562.71, 4041523.666],\n",
    "    [660.5090804, 4041211.607, 0.00, 92083742.67, 661.3740476],\n",
    "    [92084088.83, 88955562.71, 92083742.67, 0.00, 92084092.15],\n",
    "    [23.31458771, 4041523.666, 661.3740476, 92084092.15, 0.00]]\n",
    "adist = np.array(D)\n",
    "amax = np.amax(D)\n",
    "adist /= amax"
   ]
  },
  {
   "cell_type": "code",
   "execution_count": 98,
   "metadata": {},
   "outputs": [],
   "source": [
    "mds = manifold.MDS(n_components = 2, dissimilarity = 'precomputed', random_state = 6)\n",
    "results = mds.fit(adist)"
   ]
  },
  {
   "cell_type": "code",
   "execution_count": 99,
   "metadata": {},
   "outputs": [],
   "source": [
    "coords = results.embedding_\n",
    "\n",
    "import itertools"
   ]
  },
  {
   "cell_type": "code",
   "execution_count": 100,
   "metadata": {},
   "outputs": [
    {
     "data": {
      "image/png": "[encoded data removed]",
      "text/plain": [
       "<Figure size 432x288 with 1 Axes>"
      ]
     },
     "metadata": {},
     "output_type": "display_data"
    }
   ],
   "source": [
    "plt.subplots_adjust(bottom  = 0.1)\n",
    "plt.scatter(coords[:,0], coords[:,1], marker = 'o')\n",
    "\n",
    "for label, x, y in zip(itertools.repeat(\"\"), coords[:,0], coords[:,1]):\n",
    "    plt.annotate(label, xy = (x,y), xytext = (-20, 20),\n",
    "                textcoords = 'offset points', ha = 'right', va = 'bottom')\n",
    "plt.show()"
   ]
  },
  {
   "cell_type": "code",
   "execution_count": null,
   "metadata": {},
   "outputs": [],
   "source": []
  }
 ],
 "metadata": {
  "kernelspec": {
   "display_name": "Python 3",
   "language": "python",
   "name": "python3"
  },
  "language_info": {
   "codemirror_mode": {
    "name": "ipython",
    "version": 3
   },
   "file_extension": ".py",
   "mimetype": "text/x-python",
   "name": "python",
   "nbconvert_exporter": "python",
   "pygments_lexer": "ipython3",
   "version": "3.6.5"
  }
 },
 "nbformat": 4,
 "nbformat_minor": 2
}
