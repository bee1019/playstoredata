{
 "cells": [
  {
   "cell_type": "code",
   "execution_count": 2,
   "metadata": {},
   "outputs": [],
   "source": [
    "from matplotlib import pyplot as plt\n",
    "from sklearn import manifold\n",
    "import numpy as np"
   ]
  },
  {
   "cell_type": "code",
   "execution_count": 3,
   "metadata": {},
   "outputs": [],
   "source": [
    "D = [[0.00, 0.866751273, 0.936492549, 0.886807964, 0.949366681],\n",
    "     [0.866751273, 0.00, 0.773379114, 0.368770482, 0.962432219],\n",
    "    [0.936492549, 0.773379114, 0.00, 0.762282627, 0.845827728],\n",
    "    [0.886807964, 0.368770482, 0.762282627, 0.00, 0.928896907],\n",
    "    [0.949366681, 0.962432219, 0.845827728, 0.928896907, 0.00]]\n",
    "adist = np.array(D)\n",
    "amax = np.amax(D)\n",
    "adist /= amax"
   ]
  },
  {
   "cell_type": "code",
   "execution_count": 4,
   "metadata": {},
   "outputs": [],
   "source": [
    "mds = manifold.MDS(n_components = 2, dissimilarity = 'precomputed', random_state = 6)\n",
    "results = mds.fit(adist)"
   ]
  },
  {
   "cell_type": "code",
   "execution_count": 5,
   "metadata": {},
   "outputs": [],
   "source": [
    "coords = results.embedding_\n",
    "\n",
    "import itertools"
   ]
  },
  {
   "cell_type": "code",
   "execution_count": 6,
   "metadata": {},
   "outputs": [
    {
     "data": {
      "image/png": "[encoded data removed]",
      "text/plain": [
       "<Figure size 432x288 with 1 Axes>"
      ]
     },
     "metadata": {},
     "output_type": "display_data"
    }
   ],
   "source": [
    "plt.subplots_adjust(bottom  = 0.1)\n",
    "plt.scatter(coords[:,0], coords[:,1], marker = 'o')\n",
    "\n",
    "for label, x, y in zip(itertools.repeat(\"\"), coords[:,0], coords[:,1]):\n",
    "    plt.annotate(label, xy = (x,y), xytext = (-20, 20),\n",
    "                textcoords = 'offset points', ha = 'right', va = 'bottom')\n",
    "plt.show()"
   ]
  },
  {
   "cell_type": "code",
   "execution_count": null,
   "metadata": {},
   "outputs": [],
   "source": []
  }
 ],
 "metadata": {
  "kernelspec": {
   "display_name": "Python 3",
   "language": "python",
   "name": "python3"
  },
  "language_info": {
   "codemirror_mode": {
    "name": "ipython",
    "version": 3
   },
   "file_extension": ".py",
   "mimetype": "text/x-python",
   "name": "python",
   "nbconvert_exporter": "python",
   "pygments_lexer": "ipython3",
   "version": "3.6.5"
  }
 },
 "nbformat": 4,
 "nbformat_minor": 2
}
